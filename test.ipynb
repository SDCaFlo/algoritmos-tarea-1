{
 "cells": [
  {
   "cell_type": "markdown",
   "id": "7e2c38e4",
   "metadata": {},
   "source": [
    "# MergeSort"
   ]
  },
  {
   "cell_type": "code",
   "execution_count": 2,
   "id": "bf3f8447",
   "metadata": {},
   "outputs": [],
   "source": [
    "array = [5, 4, 3, 2, 1]"
   ]
  },
  {
   "cell_type": "code",
   "execution_count": 55,
   "id": "14d55c5b",
   "metadata": {},
   "outputs": [],
   "source": [
    "def mergeSort(array: list):\n",
    "    # division del array\n",
    "    length = len(array)\n",
    "    # condicion de salida\n",
    "    if length <= 1:\n",
    "        return array\n",
    "    index = length // 2\n",
    "    left_array = array[:index]\n",
    "    right_array = array[index:]\n",
    "\n",
    "    # ordenamos ambas mitades\n",
    "    left_sorted = mergeSort(left_array)\n",
    "    right_sorted = mergeSort(right_array)\n",
    "\n",
    "    # combinacion de mitades ordenadas\n",
    "    return sort(left_sorted, right_sorted)\n",
    "\n",
    "\n",
    "def sort(left_array, right_array):\n",
    "    # vamos a comparar índice por índice. seteamos ambos en 0\n",
    "    left_index, right_index = 0, 0\n",
    "\n",
    "    # inicializamos el array con 0 elementos\n",
    "    merged_array = []\n",
    "\n",
    "    # bucle de comparación\n",
    "    while left_index < len(left_array) and right_index < len(right_array):\n",
    "        left_value = left_array[left_index]\n",
    "        right_value = right_array[right_index]\n",
    "        # agregamos el menor valor\n",
    "        if left_value < right_value:\n",
    "            merged_array.append(left_value)\n",
    "            left_index += 1\n",
    "        else:\n",
    "            merged_array.append(right_value)\n",
    "            right_index += 1\n",
    "\n",
    "    # si se sale del bucle, agregamos los valores restantes (que ya estan ordenados)\n",
    "    merged_array.extend(left_array[left_index::])\n",
    "    merged_array.extend(right_array[right_index::])\n",
    "\n",
    "    return merged_array"
   ]
  },
  {
   "cell_type": "code",
   "execution_count": 43,
   "id": "fd585371",
   "metadata": {},
   "outputs": [
    {
     "data": {
      "text/plain": [
       "[1, 3, 4, 6]"
      ]
     },
     "execution_count": 43,
     "metadata": {},
     "output_type": "execute_result"
    }
   ],
   "source": [
    "sort([4], [1, 3, 6])"
   ]
  },
  {
   "cell_type": "code",
   "execution_count": 54,
   "id": "23071e91",
   "metadata": {},
   "outputs": [
    {
     "data": {
      "text/plain": [
       "[2, 3, 4, 5, 6]"
      ]
     },
     "execution_count": 54,
     "metadata": {},
     "output_type": "execute_result"
    }
   ],
   "source": [
    "mergeSort([6, 4, 2, 5, 3])"
   ]
  },
  {
   "cell_type": "code",
   "execution_count": null,
   "id": "e828f42e",
   "metadata": {},
   "outputs": [
    {
     "name": "stderr",
     "output_type": "stream",
     "text": [
      "<>:1: SyntaxWarning: list indices must be integers or slices, not tuple; perhaps you missed a comma?\n",
      "C:\\Users\\Une\\AppData\\Local\\Temp\\ipykernel_48988\\261163644.py:1: SyntaxWarning: list indices must be integers or slices, not tuple; perhaps you missed a comma?\n",
      "  [2, 6]   [1,5]\n"
     ]
    },
    {
     "ename": "TypeError",
     "evalue": "list indices must be integers or slices, not tuple",
     "output_type": "error",
     "traceback": [
      "\u001b[31m---------------------------------------------------------------------------\u001b[39m",
      "\u001b[31mTypeError\u001b[39m                                 Traceback (most recent call last)",
      "\u001b[36mCell\u001b[39m\u001b[36m \u001b[39m\u001b[32mIn[24]\u001b[39m\u001b[32m, line 1\u001b[39m\n\u001b[32m----> \u001b[39m\u001b[32m1\u001b[39m \u001b[43m[\u001b[49m\u001b[32;43m2\u001b[39;49m\u001b[43m,\u001b[49m\u001b[43m \u001b[49m\u001b[32;43m6\u001b[39;49m\u001b[43m]\u001b[49m\u001b[43m   \u001b[49m\u001b[43m[\u001b[49m\u001b[32;43m1\u001b[39;49m\u001b[43m,\u001b[49m\u001b[32;43m5\u001b[39;49m\u001b[43m]\u001b[49m\n",
      "\u001b[31mTypeError\u001b[39m: list indices must be integers or slices, not tuple"
     ]
    }
   ],
   "source": [
    "[2, 6][1, 5]\n",
    "[1, 2][3, 4, 5]"
   ]
  }
 ],
 "metadata": {
  "kernelspec": {
   "display_name": "Algoritmos de ordenamiento",
   "language": "python",
   "name": "python3"
  },
  "language_info": {
   "codemirror_mode": {
    "name": "ipython",
    "version": 3
   },
   "file_extension": ".py",
   "mimetype": "text/x-python",
   "name": "python",
   "nbconvert_exporter": "python",
   "pygments_lexer": "ipython3",
   "version": "3.13.5"
  }
 },
 "nbformat": 4,
 "nbformat_minor": 5
}
