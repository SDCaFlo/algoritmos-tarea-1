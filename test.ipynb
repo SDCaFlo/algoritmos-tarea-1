{
 "cells": [
  {
   "cell_type": "code",
   "execution_count": 45,
   "id": "821e250e",
   "metadata": {},
   "outputs": [],
   "source": [
    "def factorial(n):\n",
    "    # Algoritmo recursivo para calcular el factorial de un número\n",
    "    if n == 0 or n == 1:\n",
    "        return 1\n",
    "    else:\n",
    "        return n * factorial(n - 1)"
   ]
  },
  {
   "cell_type": "code",
   "execution_count": 46,
   "id": "cb661644",
   "metadata": {},
   "outputs": [],
   "source": [
    "def serie_fibo(n):\n",
    "    if n == 0:\n",
    "        return 0\n",
    "    if n == 1:\n",
    "        return 1\n",
    "    return serie_fibo(n - 1) + serie_fibo(n - 2)"
   ]
  },
  {
   "cell_type": "code",
   "execution_count": 56,
   "id": "1404324a",
   "metadata": {},
   "outputs": [],
   "source": [
    "def suma_fibo4(n):\n",
    "    if n == 0:\n",
    "        return 1\n",
    "    return factorial(serie_fibo(n)) + suma_fibo4(n - 1)"
   ]
  },
  {
   "cell_type": "code",
   "execution_count": 64,
   "id": "2a38627b",
   "metadata": {},
   "outputs": [
    {
     "data": {
      "text/plain": [
       "6227061251"
      ]
     },
     "execution_count": 64,
     "metadata": {},
     "output_type": "execute_result"
    }
   ],
   "source": [
    "suma_fibo4(7)"
   ]
  },
  {
   "cell_type": "code",
   "execution_count": 55,
   "id": "32234e35",
   "metadata": {},
   "outputs": [
    {
     "name": "stdout",
     "output_type": "stream",
     "text": [
      "1\n",
      "2\n",
      "3\n",
      "5\n",
      "11\n",
      "131\n",
      "40451\n"
     ]
    },
    {
     "ename": "ValueError",
     "evalue": "invalid literal for int() with base 10: ''",
     "output_type": "error",
     "traceback": [
      "\u001b[31m---------------------------------------------------------------------------\u001b[39m",
      "\u001b[31mValueError\u001b[39m                                Traceback (most recent call last)",
      "\u001b[36mCell\u001b[39m\u001b[36m \u001b[39m\u001b[32mIn[55]\u001b[39m\u001b[32m, line 3\u001b[39m\n\u001b[32m      1\u001b[39m \u001b[38;5;28;01mwhile\u001b[39;00m \u001b[38;5;28;01mTrue\u001b[39;00m:\n\u001b[32m      2\u001b[39m     n = \u001b[38;5;28minput\u001b[39m(\u001b[33m'\u001b[39m\u001b[33mIngrese el valor \u001b[39m\u001b[33m\"\u001b[39m\u001b[33mn\u001b[39m\u001b[33m\"\u001b[39m\u001b[33m: \u001b[39m\u001b[33m'\u001b[39m)\n\u001b[32m----> \u001b[39m\u001b[32m3\u001b[39m     \u001b[38;5;28mprint\u001b[39m(\u001b[33mf\u001b[39m\u001b[33m'\u001b[39m\u001b[38;5;132;01m{\u001b[39;00msuma_fibo4(\u001b[38;5;28;43mint\u001b[39;49m\u001b[43m(\u001b[49m\u001b[43mn\u001b[49m\u001b[43m)\u001b[49m)\u001b[38;5;132;01m}\u001b[39;00m\u001b[33m'\u001b[39m)\n",
      "\u001b[31mValueError\u001b[39m: invalid literal for int() with base 10: ''"
     ]
    }
   ],
   "source": [
    "while True:\n",
    "    n = input('Ingrese el valor \"n\": ')\n",
    "    print(f\"{suma_fibo4(int(n))}\")"
   ]
  },
  {
   "cell_type": "code",
   "execution_count": 4,
   "id": "70738549",
   "metadata": {},
   "outputs": [
    {
     "data": {
      "text/plain": [
       "1"
      ]
     },
     "execution_count": 4,
     "metadata": {},
     "output_type": "execute_result"
    }
   ],
   "source": [
    "factorial(0)"
   ]
  },
  {
   "cell_type": "markdown",
   "id": "af4d2450",
   "metadata": {},
   "source": [
    "# Programacion Dinámica"
   ]
  },
  {
   "cell_type": "code",
   "execution_count": 1,
   "id": "87a7348b",
   "metadata": {},
   "outputs": [],
   "source": [
    "import numpy as np"
   ]
  },
  {
   "cell_type": "code",
   "execution_count": 2,
   "id": "76721465",
   "metadata": {},
   "outputs": [],
   "source": [
    "class Elemento:\n",
    "    \"\"\"Clase elemento\"\"\"\n",
    "\n",
    "    def __init__(self, valor, peso):\n",
    "        self.valor = valor\n",
    "        self.peso = peso"
   ]
  },
  {
   "cell_type": "code",
   "execution_count": 3,
   "id": "a83edbfc",
   "metadata": {},
   "outputs": [],
   "source": [
    "ele_1 = Elemento(2, 3)\n",
    "ele_2 = Elemento(2, 1)\n",
    "ele_3 = Elemento(4, 3)\n",
    "ele_4 = Elemento(5, 4)\n",
    "ele_5 = Elemento(3, 2)\n",
    "\n",
    "lista_elementos = [ele_1, ele_2, ele_3, ele_4, ele_5]\n",
    "\n",
    "capacidad = 7"
   ]
  },
  {
   "cell_type": "code",
   "execution_count": 69,
   "id": "72c18289",
   "metadata": {},
   "outputs": [
    {
     "data": {
      "text/plain": [
       "array([[0, 0, 0, 0, 0, 0, 0, 0],\n",
       "       [0, 0, 0, 0, 0, 0, 0, 0],\n",
       "       [0, 0, 0, 0, 0, 0, 0, 0],\n",
       "       [0, 0, 0, 0, 0, 0, 0, 0],\n",
       "       [0, 0, 0, 0, 0, 0, 0, 0],\n",
       "       [0, 0, 0, 0, 0, 0, 0, 0]], dtype=int16)"
      ]
     },
     "execution_count": 69,
     "metadata": {},
     "output_type": "execute_result"
    }
   ],
   "source": [
    "np.zeros(shape=(len(lista_elementos) + 1, capacidad + 1), dtype=np.int16)"
   ]
  },
  {
   "cell_type": "code",
   "execution_count": 7,
   "id": "d0155bb7",
   "metadata": {},
   "outputs": [
    {
     "data": {
      "text/plain": [
       "array([[ 0,  0,  0,  0,  0,  0,  0,  0],\n",
       "       [ 0,  0,  0,  2,  2,  2,  2,  2],\n",
       "       [ 0,  2,  2,  2,  4,  4,  4,  4],\n",
       "       [ 0,  2,  2,  4,  6,  6,  6,  8],\n",
       "       [ 0,  2,  2,  4,  6,  7,  7,  9],\n",
       "       [ 0,  2,  3,  5,  6,  7,  9, 10]], dtype=int16)"
      ]
     },
     "execution_count": 7,
     "metadata": {},
     "output_type": "execute_result"
    }
   ],
   "source": [
    "# Algoritmo\n",
    "\n",
    "# inicializamos matriz en numpy\n",
    "matrix = np.zeros(shape=(len(lista_elementos) + 1, capacidad + 1), dtype=np.int16)\n",
    "\n",
    "# Recorremos matriz\n",
    "for i in range(matrix.shape[0]):  # Iteramos elementos\n",
    "    if i != 0:\n",
    "        elemento_actual = lista_elementos[i - 1]  # Asignamos elemento a evaluar\n",
    "    for j in range(matrix.shape[1]):  # Iteramos capacidades\n",
    "        capacidad_actual = j\n",
    "        # Secuencias de escape\n",
    "        if i == 0:\n",
    "            break\n",
    "        if j == 0:\n",
    "            continue\n",
    "\n",
    "        # Comparación\n",
    "        if elemento_actual.peso <= capacidad_actual:\n",
    "            valor_encima = matrix[i - 1, j]  # Elemento superior\n",
    "            valor_desfasado = matrix[i - 1, j - elemento_actual.peso]  # Valor desfasado\n",
    "            nuevo_valor = (\n",
    "                valor_desfasado + elemento_actual.valor\n",
    "            )  # Calculo del posible nuevo mejor valor\n",
    "            matrix[i, j] = max([valor_encima, nuevo_valor])  # Comparación\n",
    "        else:\n",
    "            matrix[i, j] = matrix[i - 1, j]  # Reemplazo con el mejor valor.\n",
    "\n",
    "matrix"
   ]
  },
  {
   "cell_type": "code",
   "execution_count": 22,
   "id": "c304fb99",
   "metadata": {},
   "outputs": [],
   "source": [
    "# picking_items based on a matrix and an ElementList\n",
    "curr_row, curr_column = matrix.shape[0] - 1, matrix.shape[1] - 1\n",
    "\n",
    "included_elements = []\n",
    "for element in lista_elementos[::-1]:\n",
    "    if matrix[curr_row, curr_column] != matrix[curr_row - 1, curr_column]:\n",
    "        included_elements.append(element)\n",
    "        curr_column = curr_column - element.peso\n",
    "    curr_row = curr_row - 1"
   ]
  },
  {
   "cell_type": "code",
   "execution_count": 25,
   "id": "cdbd2abe",
   "metadata": {},
   "outputs": [
    {
     "name": "stdout",
     "output_type": "stream",
     "text": [
      "2 ,  3\n",
      "4 ,  5\n",
      "1 ,  2\n",
      "7\n",
      "10\n"
     ]
    }
   ],
   "source": [
    "total_peso = 0\n",
    "total_valor = 0\n",
    "for element in included_elements:\n",
    "    total_peso += element.peso\n",
    "    total_valor += element.valor\n",
    "    print(element.peso, \", \", element.valor)\n",
    "print(total_peso)\n",
    "print(total_valor)"
   ]
  },
  {
   "cell_type": "code",
   "execution_count": 20,
   "id": "d40165c4",
   "metadata": {},
   "outputs": [
    {
     "data": {
      "text/plain": [
       "[<__main__.Elemento at 0x1b7c4362900>,\n",
       " <__main__.Elemento at 0x1b7adf4b610>,\n",
       " <__main__.Elemento at 0x1b7c43fe210>,\n",
       " <__main__.Elemento at 0x1b7ae0d1e00>,\n",
       " <__main__.Elemento at 0x1b7c4402650>]"
      ]
     },
     "execution_count": 20,
     "metadata": {},
     "output_type": "execute_result"
    }
   ],
   "source": [
    "lista_elementos"
   ]
  },
  {
   "cell_type": "code",
   "execution_count": 4,
   "id": "aaad2a89",
   "metadata": {},
   "outputs": [],
   "source": [
    "from algoritmos.programacion_dinamica.mochila import (\n",
    "    calcular_matriz_mochila,\n",
    "    calcular_elementos_incluidos,\n",
    "    mostrar_resultados,\n",
    ")"
   ]
  },
  {
   "cell_type": "code",
   "execution_count": 5,
   "id": "8077a69d",
   "metadata": {},
   "outputs": [
    {
     "data": {
      "text/plain": [
       "array([[ 0,  0,  0,  0,  0,  0,  0,  0],\n",
       "       [ 0,  0,  0,  2,  2,  2,  2,  2],\n",
       "       [ 0,  2,  2,  2,  4,  4,  4,  4],\n",
       "       [ 0,  2,  2,  4,  6,  6,  6,  8],\n",
       "       [ 0,  2,  2,  4,  6,  7,  7,  9],\n",
       "       [ 0,  2,  3,  5,  6,  7,  9, 10]], dtype=int16)"
      ]
     },
     "execution_count": 5,
     "metadata": {},
     "output_type": "execute_result"
    }
   ],
   "source": [
    "matriz = calcular_matriz_mochila(lista_elementos, capacidad)\n",
    "matriz"
   ]
  },
  {
   "cell_type": "code",
   "execution_count": 6,
   "id": "56f9542c",
   "metadata": {},
   "outputs": [
    {
     "data": {
      "text/plain": [
       "[<__main__.Elemento at 0x2a434882060>,\n",
       " <__main__.Elemento at 0x2a434881f30>,\n",
       " <__main__.Elemento at 0x2a4346f79d0>]"
      ]
     },
     "execution_count": 6,
     "metadata": {},
     "output_type": "execute_result"
    }
   ],
   "source": [
    "elementos_incluidos = calcular_elementos_incluidos(lista_elementos, matriz)\n",
    "elementos_incluidos"
   ]
  },
  {
   "cell_type": "code",
   "execution_count": 7,
   "id": "79f9b89d",
   "metadata": {},
   "outputs": [
    {
     "name": "stdout",
     "output_type": "stream",
     "text": [
      "Lista de elementos: \n",
      "Elem\tPeso\tValor\n",
      "1\t2\t3\n",
      "2\t4\t5\n",
      "3\t1\t2\n",
      "Total Peso:  7\n",
      "Total Valor:  10\n"
     ]
    }
   ],
   "source": [
    "mostrar_resultados(elementos_incluidos)"
   ]
  },
  {
   "cell_type": "markdown",
   "id": "2d6130c0",
   "metadata": {},
   "source": [
    "# Floyd Algorithm"
   ]
  },
  {
   "cell_type": "code",
   "execution_count": 57,
   "id": "b7f4883f",
   "metadata": {},
   "outputs": [],
   "source": [
    "import numpy as np"
   ]
  },
  {
   "cell_type": "code",
   "execution_count": 39,
   "id": "271fa2b1",
   "metadata": {},
   "outputs": [],
   "source": [
    "class Node:\n",
    "    def __init__(self, name: str):\n",
    "        self.name = name\n",
    "        self.aristas = {\n",
    "            name: {\"nodo\": self, \"costo\": 0},\n",
    "        }\n",
    "\n",
    "    def agregar_arista(self, nodo: \"Node\", costo: int):\n",
    "        if nodo.name == self.name:\n",
    "            print(\"Ruta inválida\")\n",
    "        elif nodo.name in self.aristas.keys():\n",
    "            self.aristas[nodo.name][\"costo\"] = costo\n",
    "            print(\"Ruta actualizada\")\n",
    "        else:\n",
    "            self.aristas[nodo.name] = {\"nodo\": nodo, \"costo\": costo}\n",
    "            print(\"Ruta creada\")"
   ]
  },
  {
   "cell_type": "code",
   "execution_count": 134,
   "id": "47ce7f3b",
   "metadata": {},
   "outputs": [],
   "source": [
    "class Grafo:\n",
    "    def __init__(self):\n",
    "        self.nodos: list[Node] = []\n",
    "\n",
    "    def agregar_nodo(self, name: str):\n",
    "        if name in [nodo.name for nodo in self.nodos]:\n",
    "            print(f\"El nodo {name} ya existe.\")\n",
    "        else:\n",
    "            self.nodos.append(Node(name))\n",
    "            print(f\"Nodo {name} agregado.\")\n",
    "\n",
    "    def agregar_arista(self, nodo_origen: str, nodo_destino: str, costo: int):\n",
    "        nodos_dict = {nodo.name: nodo for nodo in self.nodos}\n",
    "        if nodo_origen and nodo_destino in nodos_dict.keys():\n",
    "            nodos_dict[nodo_origen].agregar_arista(nodos_dict[nodo_destino], costo)\n",
    "        else:\n",
    "            print(\"Nodo inexistente\")\n",
    "\n",
    "    def listar_rutas(self):\n",
    "        \"\"\"ejm. {'origen': 'a', 'destino': 'b', 'costo': 3}\"\"\"\n",
    "        lista_rutas = []\n",
    "        for nodo in self.nodos:\n",
    "            # lista_rutas.extend([ {'destino': arista['nodo'], 'costo': arista['costo']} for arista in nodo.aristas])\n",
    "            for nombre_arista, datos_arista in nodo.aristas.items():\n",
    "                item = {\n",
    "                    \"origen\": nodo.name,\n",
    "                    \"destino\": nombre_arista,\n",
    "                    \"costo\": datos_arista[\"costo\"],\n",
    "                }\n",
    "                lista_rutas.append(item)\n",
    "        return lista_rutas"
   ]
  },
  {
   "cell_type": "code",
   "execution_count": null,
   "id": "1c60dd03",
   "metadata": {},
   "outputs": [],
   "source": [
    "class FloydMatrix:\n",
    "    def __init__(self, grafo: Grafo):\n",
    "        self.grafo = grafo\n",
    "        self.inicializar_matrix()\n",
    "\n",
    "    def inicializar_matrix(self):\n",
    "        \"\"\"Inicializa la matriz\"\"\"\n",
    "        a = len(self.grafo.nodos)\n",
    "        self.cost_matrix = np.full((a, a), np.inf)\n",
    "        self.route_matrix = np.full(shape=(a, a), fill_value=\"-\", dtype=str)\n",
    "        return self\n",
    "\n",
    "    def solve_matrix(self):\n",
    "        \"\"\"Resuelve la matriz\"\"\"\n",
    "        # Asignamos pesos iniciales\n",
    "        for ruta in self.grafo.listar_rutas():\n",
    "            row_name = ruta[\"origen\"]\n",
    "            col_name = ruta[\"destino\"]\n",
    "            row_idx, col_idx = self.translate_index(row_name, col_name)\n",
    "            self.cost_matrix[row_idx, col_idx] = ruta[\"costo\"]\n",
    "            self.route_matrix[row_idx, col_idx] = ruta[\"origen\"]\n",
    "\n",
    "        # Iteramos\n",
    "        # for node in self.grafo.nodos:\n",
    "        #     # Vamos a tomar un nodo pivote y evaluar la matriz resultante\n",
    "        #     pivot = node.name\n",
    "        #     pivoted_nodes = [node.name for node in self.grafo.nodos if node.name != pivot]\n",
    "\n",
    "        #     for piv_node_row in pivoted_nodes:\n",
    "        #         for piv_node_col in pivoted_nodes:\n",
    "        #             if piv_node_row == piv_node_col:\n",
    "        #                 continue\n",
    "        #             curr_value = self.get_matrix_element(piv_node_row, piv_node_col, 'cost')\n",
    "        #             candidate_cost = self.get_matrix_element(piv_node_row, pivot, 'cost') + self.get_matrix_element(pivot, piv_node_col, 'cost')\n",
    "\n",
    "        #             if candidate_cost < curr_value:\n",
    "        #                 self.set_matrix_element(piv_node_row, piv_node_col, candidate_cost, 'cost')\n",
    "        #                 self.set_matrix_element(piv_node_row, piv_node_col, pivot, 'route')\n",
    "\n",
    "    def translate_index(self, row_node: str, column_node: str):\n",
    "        \"\"\"Utilidad para traducir índices de la matriz\"\"\"\n",
    "        mapping = {nodo.name: index for index, nodo in enumerate(self.grafo.nodos)}\n",
    "        return (mapping[row_node], mapping[column_node])\n",
    "\n",
    "    def get_matrix_element(self, row_node: str, column_node: str, matrix: str):\n",
    "        row_idx, col_idx = self.translate_index(row_node, column_node)\n",
    "        if matrix == \"cost\":\n",
    "            return self.cost_matrix[row_idx, col_idx]\n",
    "        elif matrix == \"route\":\n",
    "            return self.route_matrix[row_idx, col_idx]\n",
    "\n",
    "    def set_matrix_element(self, value, row_node: str, column_node: str, matrix: str):\n",
    "        row_idx, col_idx = self.translate_index(row_node, column_node)\n",
    "        if matrix == \"cost\":\n",
    "            self.cost_matrix[row_idx, col_idx] = value\n",
    "        elif matrix == \"route\":\n",
    "            self.route_matrix[row_idx, col_idx] = value"
   ]
  },
  {
   "cell_type": "code",
   "execution_count": 176,
   "id": "e46a4a75",
   "metadata": {},
   "outputs": [
    {
     "name": "stdout",
     "output_type": "stream",
     "text": [
      "Nodo a agregado.\n",
      "Nodo b agregado.\n",
      "Nodo c agregado.\n",
      "Nodo d agregado.\n",
      "Ruta creada\n",
      "Ruta creada\n",
      "Ruta creada\n",
      "Ruta creada\n",
      "Ruta creada\n",
      "Ruta creada\n",
      "Ruta creada\n"
     ]
    }
   ],
   "source": [
    "grafo = Grafo()\n",
    "grafo.agregar_nodo(\"a\")\n",
    "grafo.agregar_nodo(\"b\")\n",
    "grafo.agregar_nodo(\"c\")\n",
    "grafo.agregar_nodo(\"d\")\n",
    "grafo.agregar_arista(\"a\", \"b\", 2)\n",
    "grafo.agregar_arista(\"a\", \"d\", 3)\n",
    "grafo.agregar_arista(\"b\", \"a\", 3)\n",
    "grafo.agregar_arista(\"b\", \"c\", 2)\n",
    "grafo.agregar_arista(\"c\", \"d\", 4)\n",
    "grafo.agregar_arista(\"d\", \"a\", -2)\n",
    "grafo.agregar_arista(\"d\", \"b\", 6)"
   ]
  },
  {
   "cell_type": "code",
   "execution_count": 177,
   "id": "13209858",
   "metadata": {},
   "outputs": [
    {
     "data": {
      "text/plain": [
       "[{'origen': 'a', 'destino': 'a', 'costo': 0},\n",
       " {'origen': 'a', 'destino': 'b', 'costo': 2},\n",
       " {'origen': 'a', 'destino': 'd', 'costo': 3},\n",
       " {'origen': 'b', 'destino': 'b', 'costo': 0},\n",
       " {'origen': 'b', 'destino': 'a', 'costo': 3},\n",
       " {'origen': 'b', 'destino': 'c', 'costo': 2},\n",
       " {'origen': 'c', 'destino': 'c', 'costo': 0},\n",
       " {'origen': 'c', 'destino': 'd', 'costo': 4},\n",
       " {'origen': 'd', 'destino': 'd', 'costo': 0},\n",
       " {'origen': 'd', 'destino': 'a', 'costo': -2},\n",
       " {'origen': 'd', 'destino': 'b', 'costo': 6}]"
      ]
     },
     "execution_count": 177,
     "metadata": {},
     "output_type": "execute_result"
    }
   ],
   "source": [
    "grafo.listar_rutas()"
   ]
  },
  {
   "cell_type": "code",
   "execution_count": 180,
   "id": "e1fd7859",
   "metadata": {},
   "outputs": [
    {
     "data": {
      "text/plain": [
       "array([['-', '-', '-', '-'],\n",
       "       ['-', '-', '-', '-'],\n",
       "       ['-', '-', '-', '-'],\n",
       "       ['-', '-', '-', '-']], dtype='<U1')"
      ]
     },
     "execution_count": 180,
     "metadata": {},
     "output_type": "execute_result"
    }
   ],
   "source": [
    "floyd = FloydMatrix(grafo)\n",
    "floyd.route_matrix"
   ]
  },
  {
   "cell_type": "code",
   "execution_count": 179,
   "id": "7cc45bcd",
   "metadata": {},
   "outputs": [
    {
     "ename": "KeyError",
     "evalue": "np.float64(6.0)",
     "output_type": "error",
     "traceback": [
      "\u001b[31m---------------------------------------------------------------------------\u001b[39m",
      "\u001b[31mKeyError\u001b[39m                                  Traceback (most recent call last)",
      "\u001b[36mCell\u001b[39m\u001b[36m \u001b[39m\u001b[32mIn[179]\u001b[39m\u001b[32m, line 1\u001b[39m\n\u001b[32m----> \u001b[39m\u001b[32m1\u001b[39m \u001b[43mfloyd\u001b[49m\u001b[43m.\u001b[49m\u001b[43msolve_matrix\u001b[49m\u001b[43m(\u001b[49m\u001b[43m)\u001b[49m\n\u001b[32m      2\u001b[39m floyd.route_matrix\n",
      "\u001b[36mCell\u001b[39m\u001b[36m \u001b[39m\u001b[32mIn[175]\u001b[39m\u001b[32m, line 37\u001b[39m, in \u001b[36mFloydMatrix.solve_matrix\u001b[39m\u001b[34m(self)\u001b[39m\n\u001b[32m     34\u001b[39m candidate_cost = \u001b[38;5;28mself\u001b[39m.get_matrix_element(piv_node_row, pivot, \u001b[33m'\u001b[39m\u001b[33mcost\u001b[39m\u001b[33m'\u001b[39m) + \u001b[38;5;28mself\u001b[39m.get_matrix_element(pivot, piv_node_col, \u001b[33m'\u001b[39m\u001b[33mcost\u001b[39m\u001b[33m'\u001b[39m)\n\u001b[32m     36\u001b[39m \u001b[38;5;28;01mif\u001b[39;00m candidate_cost < curr_value:\n\u001b[32m---> \u001b[39m\u001b[32m37\u001b[39m     \u001b[38;5;28;43mself\u001b[39;49m\u001b[43m.\u001b[49m\u001b[43mset_matrix_element\u001b[49m\u001b[43m(\u001b[49m\u001b[43mpiv_node_row\u001b[49m\u001b[43m,\u001b[49m\u001b[43m \u001b[49m\u001b[43mpiv_node_col\u001b[49m\u001b[43m,\u001b[49m\u001b[43m \u001b[49m\u001b[43mcandidate_cost\u001b[49m\u001b[43m,\u001b[49m\u001b[43m \u001b[49m\u001b[33;43m'\u001b[39;49m\u001b[33;43mcost\u001b[39;49m\u001b[33;43m'\u001b[39;49m\u001b[43m)\u001b[49m\n\u001b[32m     38\u001b[39m     \u001b[38;5;28mself\u001b[39m.set_matrix_element(piv_node_row, piv_node_col, pivot, \u001b[33m'\u001b[39m\u001b[33mroute\u001b[39m\u001b[33m'\u001b[39m)\n",
      "\u001b[36mCell\u001b[39m\u001b[36m \u001b[39m\u001b[32mIn[175]\u001b[39m\u001b[32m, line 64\u001b[39m, in \u001b[36mFloydMatrix.set_matrix_element\u001b[39m\u001b[34m(self, value, row_node, column_node, matrix)\u001b[39m\n\u001b[32m     63\u001b[39m \u001b[38;5;28;01mdef\u001b[39;00m\u001b[38;5;250m \u001b[39m\u001b[34mset_matrix_element\u001b[39m(\u001b[38;5;28mself\u001b[39m, value, row_node:\u001b[38;5;28mstr\u001b[39m, column_node:\u001b[38;5;28mstr\u001b[39m, matrix: \u001b[38;5;28mstr\u001b[39m):\n\u001b[32m---> \u001b[39m\u001b[32m64\u001b[39m     row_idx, col_idx = \u001b[38;5;28;43mself\u001b[39;49m\u001b[43m.\u001b[49m\u001b[43mtranslate_index\u001b[49m\u001b[43m(\u001b[49m\u001b[43mrow_node\u001b[49m\u001b[43m,\u001b[49m\u001b[43m \u001b[49m\u001b[43mcolumn_node\u001b[49m\u001b[43m)\u001b[49m\n\u001b[32m     65\u001b[39m     \u001b[38;5;28;01mif\u001b[39;00m matrix == \u001b[33m'\u001b[39m\u001b[33mcost\u001b[39m\u001b[33m'\u001b[39m:\n\u001b[32m     66\u001b[39m         \u001b[38;5;28mself\u001b[39m.cost_matrix[row_idx, col_idx] = value\n",
      "\u001b[36mCell\u001b[39m\u001b[36m \u001b[39m\u001b[32mIn[175]\u001b[39m\u001b[32m, line 54\u001b[39m, in \u001b[36mFloydMatrix.translate_index\u001b[39m\u001b[34m(self, row_node, column_node)\u001b[39m\n\u001b[32m     52\u001b[39m \u001b[38;5;250m\u001b[39m\u001b[33;03m\"\"\"Utilidad para traducir índices de la matriz\"\"\"\u001b[39;00m\n\u001b[32m     53\u001b[39m mapping = { nodo.name : index \u001b[38;5;28;01mfor\u001b[39;00m index, nodo \u001b[38;5;129;01min\u001b[39;00m \u001b[38;5;28menumerate\u001b[39m(\u001b[38;5;28mself\u001b[39m.grafo.nodos)}\n\u001b[32m---> \u001b[39m\u001b[32m54\u001b[39m \u001b[38;5;28;01mreturn\u001b[39;00m (mapping[row_node], \u001b[43mmapping\u001b[49m\u001b[43m[\u001b[49m\u001b[43mcolumn_node\u001b[49m\u001b[43m]\u001b[49m)\n",
      "\u001b[31mKeyError\u001b[39m: np.float64(6.0)"
     ]
    }
   ],
   "source": [
    "floyd.solve_matrix()\n",
    "floyd.route_matrix"
   ]
  },
  {
   "cell_type": "code",
   "execution_count": null,
   "id": "2bdf3b37",
   "metadata": {},
   "outputs": [
    {
     "data": {
      "text/plain": [
       "array([[inf, inf, inf, inf],\n",
       "       [inf, inf, inf, inf],\n",
       "       [inf, inf, inf, inf],\n",
       "       [inf, inf, inf, inf]])"
      ]
     },
     "execution_count": 63,
     "metadata": {},
     "output_type": "execute_result"
    }
   ],
   "source": [
    "# inicializamos matriz con valores infinitos\n",
    "a = len(grafo.nodos)\n",
    "np.full((a, a), np.inf)\n",
    "\n",
    "\n",
    "def translate_index(row: str, colum: str):\n",
    "    \"\"\"Translate index like ('a','b') to (1, 2)\"\"\"\n",
    "    [{} for index, node_name in enumerate()]"
   ]
  },
  {
   "cell_type": "code",
   "execution_count": null,
   "id": "ad487d1b",
   "metadata": {},
   "outputs": [],
   "source": []
  }
 ],
 "metadata": {
  "kernelspec": {
   "display_name": "Algoritmos de ordenamiento",
   "language": "python",
   "name": "python3"
  },
  "language_info": {
   "codemirror_mode": {
    "name": "ipython",
    "version": 3
   },
   "file_extension": ".py",
   "mimetype": "text/x-python",
   "name": "python",
   "nbconvert_exporter": "python",
   "pygments_lexer": "ipython3",
   "version": "3.13.5"
  }
 },
 "nbformat": 4,
 "nbformat_minor": 5
}
