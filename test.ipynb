{
 "cells": [
  {
   "cell_type": "code",
   "execution_count": 102,
   "id": "e9123fbf",
   "metadata": {},
   "outputs": [],
   "source": [
    "import ipdb"
   ]
  },
  {
   "cell_type": "markdown",
   "id": "926bfa52",
   "metadata": {},
   "source": [
    "\n",
    "\n",
    "# Caballo "
   ]
  },
  {
   "cell_type": "markdown",
   "id": "22526a9a",
   "metadata": {},
   "source": [
    "Descripción del problema:\n",
    "\n",
    "Éste es un ejemplo clásico de problema que se resuelve con el esquema del algoritmo de\n",
    "vuelta atrás. El problema consiste en buscar la secuencia de saltos que tiene que dar el\n",
    "caballo, partiendo de una casilla cualquiera, para pasar por cada una de las casillas del\n",
    "tablero. Se da por supuesto que el tablero está vacío, no hay figuras excepto el caballo. Lo\n",
    "primero que hay que tener en cuenta es que el caballo, desde una casilla, puede realizar\n",
    "hasta 8 movimientos:"
   ]
  },
  {
   "cell_type": "code",
   "execution_count": 43,
   "id": "ab4daafc",
   "metadata": {},
   "outputs": [],
   "source": [
    "class TableroAjedrez():\n",
    "    x_size = 8\n",
    "    y_size = 8\n",
    "\n",
    "    @classmethod\n",
    "    def possible_positions(cls):\n",
    "        #retorna las distintas posiciones posibles del tablero en formato tupla desde(1,1) hasta (8,8), \n",
    "        return [(x, y) for x in range(1, cls.x_size + 1) for y in range(1, cls.y_size + 1)]"
   ]
  },
  {
   "cell_type": "code",
   "execution_count": 44,
   "id": "786bcea1",
   "metadata": {},
   "outputs": [],
   "source": [
    "class Ficha():\n",
    "    def __init__(self, x, y):\n",
    "        # Inicializamos la ficha en la posición x,y\n",
    "        if (x, y) in TableroAjedrez.possible_positions():\n",
    "            self.posicion = (x, y)\n",
    "            self.ruta_actual = [(x, y)]\n",
    "        else:\n",
    "            raise self.MovimientoIlegal \n",
    "\n",
    "    def __str__(self):\n",
    "        return f\"Posición: {self.posicion}\"     \n",
    "    \n",
    "    def posibles_movimientos(self):\n",
    "        return\n",
    "    \n",
    "    def mover(self):\n",
    "        return\n",
    "    \n",
    "    def deshacer(self):\n",
    "        self.ruta_actual.pop()\n",
    "        self.posicion = self.ruta_actual[-1]\n",
    "    \n",
    "    class MovimientoIlegal(Exception):\n",
    "        # Error para movimientos no posibles\n",
    "        pass\n",
    "\n",
    "class Caballo(Ficha):\n",
    "    # patron movimiento de la ficha\n",
    "    patron_movimiento = [(x, y) for x in [-1,1,-2,2] for y in [-1,1,-2,2] if abs(x) != abs(y)]\n",
    "\n",
    "    def posibles_movimientos(self):\n",
    "        # analiza los posibles movimientos de la ficha\n",
    "        return [\n",
    "            (self.posicion[0] + movimiento[0], self.posicion[1] + movimiento[1])\n",
    "            for movimiento in self.patron_movimiento \n",
    "            if (self.posicion[0] + movimiento[0], self.posicion[1] + movimiento[1]) in TableroAjedrez.possible_positions()]\n",
    "    \n",
    "    def mover(self, x, y):\n",
    "        if (x,y) in self.posibles_movimientos():\n",
    "            self.posicion = (x, y)\n",
    "            self.ruta_actual.append((x, y))\n",
    "            return self\n",
    "        else:\n",
    "            raise self.MovimientoIlegal\n"
   ]
  },
  {
   "cell_type": "code",
   "execution_count": 48,
   "id": "e911d756",
   "metadata": {},
   "outputs": [],
   "source": [
    "def SaltoCaballo(ficha: Caballo = Caballo(1,1)):\n",
    "    # Revisamos si ya se realizaron 64 movimientos ( Si la ficha ya pasó por todas las casillas)    \n",
    "    if len(ficha.ruta_actual) == TableroAjedrez.x_size * TableroAjedrez.y_size:\n",
    "        return True, ficha\n",
    "\n",
    "    # Analizamos los posibles movimientos de la ficha desde nuestra posición actual\n",
    "    posibles_movimientos = [ movimiento for movimiento in ficha.posibles_movimientos() if movimiento not in ficha.ruta_actual ]\n",
    "\n",
    "    # heuristica_warnsdorff -> Optimiza Búsqueda\n",
    "    movimientos_ordenados = sorted(\n",
    "            [ \n",
    "                (movimiento, \n",
    "                len(\n",
    "                    [m for m in Caballo(*movimiento).posibles_movimientos() if m not in ficha.ruta_actual])\n",
    "                    ) \n",
    "                for movimiento in posibles_movimientos \n",
    "            ], \n",
    "            key=lambda m: m[1]\n",
    "        )\n",
    "\n",
    "    for movimiento, _ in movimientos_ordenados:\n",
    "        ficha.mover(*movimiento)                # movemos a la siguiente casilla\n",
    "        solucion, ficha = SaltoCaballo(ficha)   # Ejecutamos la lógica recursiva\n",
    "        \n",
    "        if solucion:\n",
    "            return True, ficha  # Verificamos si encontramos la solución\n",
    "        \n",
    "        ficha.deshacer()    # Si es un camino sin salida, regresamos.\n",
    "    \n",
    "    return False, ficha"
   ]
  },
  {
   "cell_type": "code",
   "execution_count": 52,
   "id": "336b6897",
   "metadata": {},
   "outputs": [
    {
     "name": "stdout",
     "output_type": "stream",
     "text": [
      "True\n",
      "[(5, 5), (4, 7), (2, 8), (1, 6), (2, 4), (1, 2), (3, 1), (2, 3), (1, 1), (3, 2), (1, 3), (2, 1), (4, 2), (6, 1), (8, 2), (7, 4), (8, 6), (7, 8), (6, 6), (8, 7), (6, 8), (7, 6), (8, 8), (6, 7), (4, 8), (2, 7), (1, 5), (3, 6), (1, 7), (3, 8), (5, 7), (4, 5), (2, 6), (1, 8), (3, 7), (5, 8), (7, 7), (8, 5), (7, 3), (8, 1), (6, 2), (4, 1), (5, 3), (3, 4), (2, 2), (1, 4), (3, 3), (2, 5), (4, 6), (5, 4), (3, 5), (4, 3), (5, 1), (7, 2), (8, 4), (6, 5), (4, 4), (5, 2), (6, 4), (5, 6), (7, 5), (6, 3), (7, 1), (8, 3)]\n"
     ]
    }
   ],
   "source": [
    "resultado, ficha = SaltoCaballo(Caballo(5,5))\n",
    "print(resultado)\n",
    "print(ficha.ruta_actual)"
   ]
  },
  {
   "cell_type": "code",
   "execution_count": null,
   "id": "d0f461a7",
   "metadata": {},
   "outputs": [],
   "source": []
  }
 ],
 "metadata": {
  "kernelspec": {
   "display_name": "Algoritmos de ordenamiento",
   "language": "python",
   "name": "python3"
  },
  "language_info": {
   "codemirror_mode": {
    "name": "ipython",
    "version": 3
   },
   "file_extension": ".py",
   "mimetype": "text/x-python",
   "name": "python",
   "nbconvert_exporter": "python",
   "pygments_lexer": "ipython3",
   "version": "3.13.5"
  }
 },
 "nbformat": 4,
 "nbformat_minor": 5
}
